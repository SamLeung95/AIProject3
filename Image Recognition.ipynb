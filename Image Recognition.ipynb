{
 "cells": [
  {
   "cell_type": "code",
   "execution_count": 4,
   "metadata": {
    "collapsed": false
   },
   "outputs": [],
   "source": [
    "from PIL import Image\n",
    "from functools import reduce\n",
    "import numpy as np\n",
    "import matplotlib.pyplot as plt\n",
    "import time\n",
    "import os\n",
    "import sys\n",
    "from sklearn.externals import joblib\n",
    "import warnings\n",
    "from sklearn import svm"
   ]
  },
  {
   "cell_type": "code",
   "execution_count": 5,
   "metadata": {
    "collapsed": false
   },
   "outputs": [],
   "source": [
    "def getMean(arr):\n",
    "    \n",
    "    avg = sum(arr) / len(arr)\n",
    "    \n",
    "    return avg\n",
    "\n",
    "def threshold(img_arr, img_name):\n",
    "    avgArr = []\n",
    "    newArr = img_arr\n",
    "    for row in img_arr:\n",
    "        for pixel in row:\n",
    "            avg=getMean(pixel[:3])\n",
    "            avgArr.append(avg)\n",
    "            \n",
    "    threshold = getMean(avgArr)\n",
    "    \n",
    "    for row in newArr:\n",
    "        for pixel in row:\n",
    "            if(getMean(pixel[:3])>threshold):\n",
    "                for x in range(3):\n",
    "                    pixel[x]=255;\n",
    "            else:\n",
    "                for x in range(3):\n",
    "                    pixel[x]=0;\n",
    "            \n",
    "            if(img_name.lower().endswith(('.png', '.gif', 'bmp'))):\n",
    "                pixel[3]=255\n",
    "                \n",
    "    return newArr"
   ]
  },
  {
   "cell_type": "code",
   "execution_count": 6,
   "metadata": {
    "collapsed": false
   },
   "outputs": [],
   "source": [
    "def img_to_array(img_path):\n",
    "    \n",
    "    img = Image.open(img_path)\n",
    "    img = img.resize((100,100), Image.ANTIALIAS)\n",
    "    img = np.array(img)\n",
    "    img = threshold(img, img_path)\n",
    "    img = img.ravel()\n",
    "    \n",
    "    return img"
   ]
  },
  {
   "cell_type": "code",
   "execution_count": 7,
   "metadata": {
    "collapsed": false
   },
   "outputs": [],
   "source": [
    "def main():\n",
    "    \n",
    "    warnings.filterwarnings(\"ignore\")\n",
    "    loop=True\n",
    "    img=None\n",
    "    \n",
    "    while loop==True:\n",
    "        try:\n",
    "            user_input=input(\"Train or classify image: \")\n",
    "            \n",
    "            if(user_input.lower()==\"t\" or user_input.lower()==\"train\"):\n",
    "                image_names=[]\n",
    "                training=[]\n",
    "                classification=[]\n",
    "                \n",
    "                img_dir=input(\"Enter training set location: \")\n",
    "                img_dir_2=[img_dir + \"\\\\\" + d for d in os.listdir(img_dir)]\n",
    "                img_classes=[d for d in os.listdir(img_dir)]\n",
    "                \n",
    "                for directories in img_dir_2:\n",
    "                    image_names.append([d for d in os.listdir(directories)])\n",
    "                \n",
    "                for classes in range(len(img_classes)):\n",
    "                    for image_name in range(len(image_names[classes])):\n",
    "                        file_loc=img_dir + \"\\\\\" + img_classes[classes] + \"\\\\\" + image_names[classes][image_name]\n",
    "                        training.append(img_to_array(file_loc))\n",
    "                        classification.append(img_classes[classes])\n",
    "                \n",
    "                clf = svm.LinearSVC()\n",
    "                clf.fit(training, classification)\n",
    "                print(\"Finished Training!\")\n",
    "                \n",
    "                joblib.dump(clf, 'SVMdump.pkl')\n",
    "                \n",
    "                loop=False\n",
    "                      \n",
    "            elif(user_input.lower()==\"c\" or user_input.lower()==\"classify\"):\n",
    "                \n",
    "                clf = joblib.load('SVMdump.pkl') \n",
    "                \n",
    "                repeat=True\n",
    "                \n",
    "                while repeat==True:\n",
    "                    img_name=input(\"Enter image name: \")\n",
    "                    \n",
    "                    valid_choice=False\n",
    "                    \n",
    "                    if(not os.path.isfile(img_name)):\n",
    "                        print(\"Invalid file name, please try again.\")\n",
    "                        valid_choice=True\n",
    "                    else:\n",
    "                        print(clf.predict(img_to_array(img_name)))\n",
    "                    \n",
    "                    \n",
    "                    while valid_choice==False:\n",
    "                        \n",
    "                        repeat_choice=input(\"Pick another image? \")\n",
    "\n",
    "                        if(repeat_choice.lower()==\"y\" or repeat_choice.lower()==\"yes\"):\n",
    "                            valid_choice=True\n",
    "                        elif(repeat_choice.lower()==\"n\" or repeat_choice.lower()==\"no\"):\n",
    "                            valid_choice=True\n",
    "                            repeat=False\n",
    "                        else:\n",
    "                            print(\"Not a valid choice. Chose (y)es or (n)o.\")\n",
    "                    \n",
    "                loop=False\n",
    "            elif(user_input.lower()==\"exit\"):\n",
    "                sys.exit()\n",
    "                \n",
    "            else:\n",
    "                loop=True\n",
    "                print(\"Invalid input, please try again.\")\n",
    "            \n",
    "        except FileNotFoundError:\n",
    "            loop=True\n",
    "            print(\"Invalid image, please try again.\")\n",
    "\n"
   ]
  },
  {
   "cell_type": "code",
   "execution_count": null,
   "metadata": {
    "collapsed": false
   },
   "outputs": [
    {
     "name": "stdout",
     "output_type": "stream",
     "text": [
      "Train or classify image: c\n",
      "Enter image name: test.jpg\n",
      "['Heart']\n",
      "Pick another image? y\n",
      "Enter image name: test.jpg\n",
      "['Hat']\n",
      "Pick another image? y\n",
      "Enter image name: test.jpg\n",
      "['Heart']\n",
      "Pick another image? y\n",
      "Enter image name: test.jpg\n",
      "['Heart']\n"
     ]
    }
   ],
   "source": [
    "main()"
   ]
  },
  {
   "cell_type": "code",
   "execution_count": null,
   "metadata": {
    "collapsed": true
   },
   "outputs": [],
   "source": []
  }
 ],
 "metadata": {
  "kernelspec": {
   "display_name": "Python 3",
   "language": "python",
   "name": "python3"
  },
  "language_info": {
   "codemirror_mode": {
    "name": "ipython",
    "version": 3
   },
   "file_extension": ".py",
   "mimetype": "text/x-python",
   "name": "python",
   "nbconvert_exporter": "python",
   "pygments_lexer": "ipython3",
   "version": "3.5.1"
  }
 },
 "nbformat": 4,
 "nbformat_minor": 0
}
